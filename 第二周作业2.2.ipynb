{
 "cells": [
  {
   "cell_type": "code",
   "execution_count": 1,
   "metadata": {},
   "outputs": [
    {
     "name": "stderr",
     "output_type": "stream",
     "text": [
      "D:\\anaconda3\\lib\\importlib\\_bootstrap.py:219: RuntimeWarning: numpy.ufunc size changed, may indicate binary incompatibility. Expected 192 from C header, got 216 from PyObject\n",
      "  return f(*args, **kwds)\n"
     ]
    }
   ],
   "source": [
    "import numpy as np\n",
    "import matplotlib.pyplot as plt\n",
    "import h5py \n",
    "import scipy\n",
    "from PIL import Image\n",
    "from scipy import ndimage\n",
    "from lr_utils import load_dataset\n",
    "\n",
    "%matplotlib inline"
   ]
  },
  {
   "cell_type": "code",
   "execution_count": 2,
   "metadata": {},
   "outputs": [],
   "source": [
    "#Loading the data(cat/non-cat)\n",
    "train_set_x_orig, train_set_y, test_set_x_orig, test_set_y, classes = load_dataset()"
   ]
  },
  {
   "cell_type": "code",
   "execution_count": 16,
   "metadata": {},
   "outputs": [
    {
     "name": "stdout",
     "output_type": "stream",
     "text": [
      "0\n"
     ]
    },
    {
     "data": {
      "text/plain": [
       "'non-cat'"
      ]
     },
     "execution_count": 16,
     "metadata": {},
     "output_type": "execute_result"
    },
    {
     "data": {
      "image/png": "[encoded data removed]",
      "text/plain": [
       "<Figure size 432x288 with 1 Axes>"
      ]
     },
     "metadata": {
      "needs_background": "light"
     },
     "output_type": "display_data"
    }
   ],
   "source": [
    "#example\n",
    "plt.imshow(train_set_x_orig[1])\n",
    "print(train_set_y[0][1])\n",
    "classes[np.squeeze(train_set_y[:,1])].decode(\"utf-8\")"
   ]
  },
  {
   "cell_type": "code",
   "execution_count": 17,
   "metadata": {},
   "outputs": [
    {
     "name": "stdout",
     "output_type": "stream",
     "text": [
      "Number of training examples: m_train = 209\n",
      "Number of testing examples: m_test = 50\n",
      "Height/Width of each image: num_px = 64\n",
      "Each image is of size: (64, 64, 3)\n",
      "train_set_x shape: (209, 64, 64, 3)\n",
      "train_set_y shape: (1, 209)\n",
      "test_set_x shape: (50, 64, 64, 3)\n",
      "test_set_y shape: (1, 50)\n"
     ]
    }
   ],
   "source": [
    "### START CODE HERE ### (≈ 3 lines of code)\n",
    "m_train = train_set_x_orig.shape[0]\n",
    "m_test = test_set_x_orig.shape[0]\n",
    "num_px = train_set_x_orig.shape[1]\n",
    "### END CODE HERE ###\n",
    "\n",
    "print (\"Number of training examples: m_train = \" + str(m_train))\n",
    "print (\"Number of testing examples: m_test = \" + str(m_test))\n",
    "print (\"Height/Width of each image: num_px = \" + str(num_px))\n",
    "print (\"Each image is of size: (\" + str(num_px) + \", \" + str(num_px) + \", 3)\")\n",
    "print (\"train_set_x shape: \" + str(train_set_x_orig.shape))\n",
    "print (\"train_set_y shape: \" + str(train_set_y.shape))\n",
    "print (\"test_set_x shape: \" + str(test_set_x_orig.shape))\n",
    "print (\"test_set_y shape: \" + str(test_set_y.shape))"
   ]
  },
  {
   "cell_type": "code",
   "execution_count": 21,
   "metadata": {},
   "outputs": [
    {
     "name": "stdout",
     "output_type": "stream",
     "text": [
      "(12288, 209)\n",
      "(1, 209)\n",
      "(12288, 50)\n",
      "(1, 50)\n"
     ]
    }
   ],
   "source": [
    "# Reshape the training and test examples\n",
    "train_x_flatten = train_set_x_orig.reshape((train_set_x_orig.shape[0],-1)).T\n",
    "test_x_flatten = test_set_x_orig.reshape((test_set_x_orig.shape[0],-1)).T\n",
    "print(train_x_flatten.shape)\n",
    "print(train_set_y.shape)\n",
    "print(test_x_flatten.shape)\n",
    "print(test_set_y.shape)"
   ]
  },
  {
   "cell_type": "code",
   "execution_count": 22,
   "metadata": {},
   "outputs": [],
   "source": [
    "#Standardize\n",
    "train_x = train_x_flatten/255.0\n",
    "test_x = test_x_flatten/255.0"
   ]
  },
  {
   "cell_type": "code",
   "execution_count": 23,
   "metadata": {},
   "outputs": [],
   "source": [
    "def sigmoid(x):\n",
    "    return 1/(1+np.exp(-x))"
   ]
  },
  {
   "cell_type": "code",
   "execution_count": 63,
   "metadata": {},
   "outputs": [],
   "source": [
    "def initialize_with_zero(dim):\n",
    "    W,b = np.zeros((dim,1)), 0.\n",
    "    \n",
    "    assert(W.shape == (dim, 1))\n",
    "    assert(isinstance(b, float) or isinstance(b, int))\n",
    "    \n",
    "    return W, b"
   ]
  },
  {
   "cell_type": "code",
   "execution_count": 87,
   "metadata": {},
   "outputs": [],
   "source": [
    "def forwardprop(W,b,X,Y):\n",
    "    m = X.shape[1]\n",
    "    Z = np.dot(W.T,X) + b\n",
    "    A = sigmoid(Z)\n",
    "    cost = -np.sum(Y*np.log(A)+(1-Y)*np.log(1-A))/X.shape[1]\n",
    "    dw = np.dot(X,(A-Y).T)/m\n",
    "    db = np.sum(A-Y)/m\n",
    "    \n",
    "    assert(dw.shape == W.shape)\n",
    "    assert(db.dtype == float)\n",
    "    cost = np.squeeze(cost)\n",
    "    assert(cost.shape == ())\n",
    "    \n",
    "    grads = {\"dw\":dw,\n",
    "            \"db\":db}\n",
    "    \n",
    "    return grads, cost"
   ]
  },
  {
   "cell_type": "code",
   "execution_count": 88,
   "metadata": {},
   "outputs": [
    {
     "name": "stdout",
     "output_type": "stream",
     "text": [
      "dw = [[0.99993216]\n",
      " [1.99980262]]\n",
      "db = 0.49993523062470574\n",
      "cost = 6.000064773192205\n"
     ]
    }
   ],
   "source": [
    "W, b, X, Y = np.array([[1.],[2.]]), 2., np.array([[1,2],[3,4]]), np.array([[1,0]])\n",
    "grads, cost = forwardprop(W, b, X, Y)\n",
    "print (\"dw = \" + str(grads[\"dw\"]))\n",
    "print (\"db = \" + str(grads[\"db\"]))\n",
    "print (\"cost = \" + str(cost))"
   ]
  },
  {
   "cell_type": "code",
   "execution_count": 95,
   "metadata": {},
   "outputs": [],
   "source": [
    "def optimize(W, b, X, Y, num_iterations, learning_rate, print_cost = False):\n",
    "    costs = []\n",
    "    for i in range(num_iterations):\n",
    "        grads, cost = forwardprop(W,b,X,Y)\n",
    "        dw = grads[\"dw\"]\n",
    "        db = grads[\"db\"]\n",
    "        W = W - learning_rate*dw\n",
    "        b = b - learning_rate*db\n",
    "        if i%50==0:\n",
    "            costs.append(cost)\n",
    "        if print_cost and i%50==0:\n",
    "            print(\"Cost after %i iterations is %f\"%(i,cost))\n",
    "    params = {\"W\":W,\n",
    "             \"b\":b}\n",
    "    grads = {\"dw\":dw,\n",
    "            \"db\":db}\n",
    "\n",
    "    return params, grads, costs"
   ]
  },
  {
   "cell_type": "code",
   "execution_count": 97,
   "metadata": {},
   "outputs": [
    {
     "name": "stdout",
     "output_type": "stream",
     "text": [
      "Cost after 0 iterations is 0.567291\n",
      "Cost after 50 iterations is 0.512305\n",
      "Cost after 100 iterations is 0.504049\n",
      "Cost after 150 iterations is 0.497355\n",
      "w = [[-0.50210704]\n",
      " [-0.45298168]]\n",
      "b = 2.0743870834610703\n",
      "dw = [[ 0.0992157 ]\n",
      " [-0.02504474]]\n",
      "db = -0.06213021590377116\n",
      "[0.567290709077523, 0.512304968747083, 0.5040491592779401, 0.4973547729820059]\n"
     ]
    }
   ],
   "source": [
    "params, grads, costs = optimize(W,b,X,Y,num_iterations=200,learning_rate=0.009,print_cost=True)\n",
    "print (\"w = \" + str(params[\"W\"]))\n",
    "print (\"b = \" + str(params[\"b\"]))\n",
    "print (\"dw = \" + str(grads[\"dw\"]))\n",
    "print (\"db = \" + str(grads[\"db\"]))\n",
    "print(costs)"
   ]
  },
  {
   "cell_type": "code",
   "execution_count": 102,
   "metadata": {},
   "outputs": [],
   "source": [
    "def predict(W,b,X):\n",
    "    m = X.shape[1]\n",
    "    Z = np.dot(W.T,X)+b\n",
    "    Y_pred = np.zeros((1,m))\n",
    "    A = sigmoid(Z)\n",
    "    for i in range(A.shape[1]):\n",
    "        Y_pred[0,i] = 1 if A[0,i]>0.5 else 0\n",
    "        \n",
    "    assert(Y_pred.shape==(1,X.shape[1]))\n",
    "    \n",
    "    return Y_pred"
   ]
  },
  {
   "cell_type": "code",
   "execution_count": 99,
   "metadata": {},
   "outputs": [
    {
     "data": {
      "text/plain": [
       "array([[1., 1.]])"
      ]
     },
     "execution_count": 99,
     "metadata": {},
     "output_type": "execute_result"
    }
   ],
   "source": [
    "predict(W,b,X)"
   ]
  },
  {
   "cell_type": "code",
   "execution_count": 124,
   "metadata": {},
   "outputs": [],
   "source": [
    "def model(X_train, Y_train, X_test, Y_test, num_iterations = 1000, learning_rate = 0.01\n",
    "         ,print_cost = True):\n",
    "    W,b = initialize_with_zero(X_train.shape[0])\n",
    "    params, grads, costs = optimize(W=W, b=b, X=X_train, Y=Y_train, num_iterations=num_iterations,\n",
    "            learning_rate=learning_rate, print_cost=print_cost)\n",
    "    Y_pred_test = predict(W=params[\"W\"], b=params[\"b\"], X=X_test)\n",
    "    Y_pred_train = predict(W=params[\"W\"], b=params[\"b\"], X=X_train)\n",
    "    \n",
    "    print(\"train accuracy: {} %\".format(100 - np.mean(np.abs(Y_pred_train - Y_train)) * 100))\n",
    "    print(\"test accuracy: {} %\".format(100 - np.mean(np.abs(Y_pred_test - Y_test)) * 100))\n",
    "\n",
    "    \n",
    "    d = {\"costs\": costs,\n",
    "         \"Y_prediction_test\": Y_pred_test, \n",
    "         \"Y_prediction_train\" : Y_pred_train, \n",
    "         \"w\" : params[\"W\"], \n",
    "         \"b\" : params[\"b\"],\n",
    "         \"learning_rate\" : learning_rate,\n",
    "         \"num_iterations\": num_iterations}\n",
    "    \n",
    "    return d"
   ]
  },
  {
   "cell_type": "code",
   "execution_count": 125,
   "metadata": {},
   "outputs": [
    {
     "name": "stdout",
     "output_type": "stream",
     "text": [
      "Cost after 0 iterations is 0.693147\n",
      "Cost after 50 iterations is 0.924185\n",
      "Cost after 100 iterations is 0.823921\n",
      "Cost after 150 iterations is 0.889588\n",
      "Cost after 200 iterations is 0.418944\n",
      "Cost after 250 iterations is 0.824284\n",
      "Cost after 300 iterations is 0.617350\n",
      "Cost after 350 iterations is 0.576802\n",
      "Cost after 400 iterations is 0.522116\n",
      "Cost after 450 iterations is 0.459313\n",
      "Cost after 500 iterations is 0.387709\n",
      "Cost after 550 iterations is 0.309745\n",
      "Cost after 600 iterations is 0.236254\n",
      "Cost after 650 iterations is 0.181419\n",
      "Cost after 700 iterations is 0.154222\n",
      "Cost after 750 iterations is 0.142225\n",
      "Cost after 800 iterations is 0.135328\n",
      "Cost after 850 iterations is 0.129844\n",
      "Cost after 900 iterations is 0.124971\n",
      "Cost after 950 iterations is 0.120546\n",
      "train accuracy: 98.56459330143541 %\n",
      "test accuracy: 70.0 %\n"
     ]
    }
   ],
   "source": [
    "d = model(train_x, train_set_y, test_x, test_set_y)"
   ]
  },
  {
   "cell_type": "code",
   "execution_count": 126,
   "metadata": {},
   "outputs": [
    {
     "data": {
      "text/plain": [
       "array([[ 0.01165247],\n",
       "       [-0.03063544],\n",
       "       [-0.01379726],\n",
       "       ...,\n",
       "       [-0.01410052],\n",
       "       [-0.03438882],\n",
       "       [ 0.02640075]])"
      ]
     },
     "execution_count": 126,
     "metadata": {},
     "output_type": "execute_result"
    }
   ],
   "source": [
    "d[\"w\"]"
   ]
  },
  {
   "cell_type": "code",
   "execution_count": 127,
   "metadata": {},
   "outputs": [
    {
     "data": {
      "text/plain": [
       "-0.0037696989524414718"
      ]
     },
     "execution_count": 127,
     "metadata": {},
     "output_type": "execute_result"
    }
   ],
   "source": [
    "d[\"b\"]"
   ]
  },
  {
   "cell_type": "code",
   "execution_count": 111,
   "metadata": {},
   "outputs": [
    {
     "data": {
      "text/plain": [
       "array([[1., 1., 1., 1., 1., 1., 0., 1., 1., 1., 0., 1., 1., 1., 0., 1.,\n",
       "        0., 1., 0., 0., 1., 0., 0., 1., 1., 1., 1., 0., 0., 1., 0., 1.,\n",
       "        1., 0., 1., 0., 0., 1., 0., 0., 1., 0., 1., 0., 1., 1., 0., 1.,\n",
       "        1., 0.]])"
      ]
     },
     "execution_count": 111,
     "metadata": {},
     "output_type": "execute_result"
    }
   ],
   "source": [
    "d[\"Y_prediction_test\"]"
   ]
  },
  {
   "cell_type": "code",
   "execution_count": 106,
   "metadata": {},
   "outputs": [
    {
     "data": {
      "text/plain": [
       "array([[0., 0., 1., 0., 0., 0., 0., 1., 0., 0., 0., 1., 0., 1., 1., 0.,\n",
       "        0., 0., 0., 1., 0., 0., 0., 0., 1., 1., 0., 1., 0., 1., 0., 0.,\n",
       "        0., 0., 0., 0., 0., 0., 1., 0., 0., 1., 1., 0., 0., 0., 0., 1.,\n",
       "        0., 0., 1., 0., 0., 0., 1., 0., 1., 1., 0., 1., 1., 1., 0., 0.,\n",
       "        0., 0., 0., 0., 1., 0., 0., 1., 0., 0., 0., 1., 0., 0., 0., 0.,\n",
       "        0., 0., 0., 1., 1., 0., 0., 0., 1., 0., 0., 0., 1., 1., 1., 0.,\n",
       "        0., 1., 0., 0., 0., 0., 1., 0., 1., 0., 1., 1., 1., 1., 1., 1.,\n",
       "        0., 0., 0., 0., 0., 1., 0., 0., 0., 1., 0., 0., 1., 0., 1., 0.,\n",
       "        1., 1., 0., 0., 0., 1., 1., 1., 1., 1., 0., 0., 0., 0., 1., 0.,\n",
       "        1., 1., 1., 0., 1., 1., 0., 0., 0., 1., 0., 0., 1., 0., 0., 0.,\n",
       "        0., 0., 1., 0., 1., 0., 1., 0., 0., 1., 1., 1., 0., 0., 1., 1.,\n",
       "        0., 1., 0., 1., 0., 0., 0., 0., 0., 1., 0., 0., 1., 0., 0., 0.,\n",
       "        1., 0., 0., 0., 0., 1., 0., 0., 1., 0., 0., 0., 0., 0., 0., 0.,\n",
       "        0.]])"
      ]
     },
     "execution_count": 106,
     "metadata": {},
     "output_type": "execute_result"
    }
   ],
   "source": [
    "d[\"Y_prediction_train\"]"
   ]
  },
  {
   "cell_type": "code",
   "execution_count": 115,
   "metadata": {},
   "outputs": [],
   "source": [
    "def model_modified(X_train, Y_train, X_test, Y_test, W, b, num_iterations = 1000, learning_rate=0.01,\n",
    "                   print_cost = True):\n",
    "    W,b = W,b\n",
    "    params, grads, costs = optimize(W=W, b=b, X=X_train, Y=Y_train, num_iterations=num_iterations,\n",
    "            learning_rate=learning_rate, print_cost=print_cost)\n",
    "    Y_pred_test = predict(W=params[\"W\"], b=params[\"b\"], X=X_test)\n",
    "    Y_pred_train = predict(W=params[\"W\"], b=params[\"b\"], X=X_train)\n",
    "    \n",
    "    print(\"train accuracy: {} %\".format(100 - np.mean(np.abs(Y_pred_train - Y_train)) * 100))\n",
    "    print(\"test accuracy: {} %\".format(100 - np.mean(np.abs(Y_pred_test - Y_test)) * 100))\n",
    "\n",
    "    \n",
    "    d = {\"costs\": costs,\n",
    "         \"Y_prediction_test\": Y_pred_test, \n",
    "         \"Y_prediction_train\" : Y_pred_train, \n",
    "         \"w\" : W, \n",
    "         \"b\" : b,\n",
    "         \"learning_rate\" : learning_rate,\n",
    "         \"num_iterations\": num_iterations}\n",
    "    \n",
    "    return d"
   ]
  },
  {
   "cell_type": "code",
   "execution_count": 134,
   "metadata": {},
   "outputs": [
    {
     "name": "stdout",
     "output_type": "stream",
     "text": [
      "Cost after 0 iterations is 0.116478\n",
      "Cost after 50 iterations is 0.114938\n",
      "Cost after 100 iterations is 0.113441\n",
      "Cost after 150 iterations is 0.111987\n",
      "Cost after 200 iterations is 0.110572\n",
      "Cost after 250 iterations is 0.109194\n",
      "Cost after 300 iterations is 0.107852\n",
      "Cost after 350 iterations is 0.106543\n",
      "Cost after 400 iterations is 0.105267\n",
      "Cost after 450 iterations is 0.104022\n",
      "Cost after 500 iterations is 0.102807\n",
      "Cost after 550 iterations is 0.101619\n",
      "Cost after 600 iterations is 0.100459\n",
      "Cost after 650 iterations is 0.099326\n",
      "Cost after 700 iterations is 0.098217\n",
      "Cost after 750 iterations is 0.097133\n",
      "Cost after 800 iterations is 0.096072\n",
      "Cost after 850 iterations is 0.095033\n",
      "Cost after 900 iterations is 0.094017\n",
      "Cost after 950 iterations is 0.093021\n",
      "train accuracy: 99.52153110047847 %\n",
      "test accuracy: 70.0 %\n"
     ]
    }
   ],
   "source": [
    "d_m = model_modified(train_x, train_set_y, test_x, test_set_y, d[\"w\"],d[\"b\"],\n",
    "                    learning_rate=0.004)"
   ]
  },
  {
   "cell_type": "code",
   "execution_count": 135,
   "metadata": {},
   "outputs": [
    {
     "data": {
      "image/png": "[encoded data removed]",
      "text/plain": [
       "<Figure size 432x288 with 1 Axes>"
      ]
     },
     "metadata": {
      "needs_background": "light"
     },
     "output_type": "display_data"
    }
   ],
   "source": [
    "costs_line = d[\"costs\"]+d_m[\"costs\"]\n",
    "plt.plot(costs_line)\n",
    "plt.ylabel(\"cost\")\n",
    "plt.xlabel(\"iterations\")\n",
    "plt.show()"
   ]
  },
  {
   "cell_type": "code",
   "execution_count": null,
   "metadata": {},
   "outputs": [],
   "source": []
  },
  {
   "cell_type": "code",
   "execution_count": null,
   "metadata": {},
   "outputs": [],
   "source": []
  }
 ],
 "metadata": {
  "kernelspec": {
   "display_name": "Python 3",
   "language": "python",
   "name": "python3"
  },
  "language_info": {
   "codemirror_mode": {
    "name": "ipython",
    "version": 3
   },
   "file_extension": ".py",
   "mimetype": "text/x-python",
   "name": "python",
   "nbconvert_exporter": "python",
   "pygments_lexer": "ipython3",
   "version": "3.7.7"
  }
 },
 "nbformat": 4,
 "nbformat_minor": 4
}
